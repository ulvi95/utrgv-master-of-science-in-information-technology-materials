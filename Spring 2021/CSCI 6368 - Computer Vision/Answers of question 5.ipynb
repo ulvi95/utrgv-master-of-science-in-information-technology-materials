{
 "cells": [
  {
   "cell_type": "code",
   "execution_count": 34,
   "metadata": {},
   "outputs": [],
   "source": [
    "import cv2\n",
    "import numpy as np\n",
    "from matplotlib import pyplot as plt\n",
    "np.set_printoptions(formatter={'complex_kind': '{: .3f}'.format})"
   ]
  },
  {
   "cell_type": "code",
   "execution_count": 35,
   "metadata": {},
   "outputs": [],
   "source": [
    "given_array = np.array([1,1,1,1,1,1,0,0], dtype=np.float32)"
   ]
  },
  {
   "cell_type": "code",
   "execution_count": 36,
   "metadata": {},
   "outputs": [
    {
     "data": {
      "text/plain": [
       "array([1., 1., 1., 1., 1., 1., 0., 0.], dtype=float32)"
      ]
     },
     "execution_count": 36,
     "metadata": {},
     "output_type": "execute_result"
    }
   ],
   "source": [
    "given_array"
   ]
  },
  {
   "cell_type": "code",
   "execution_count": 37,
   "metadata": {},
   "outputs": [],
   "source": [
    "dft_by_cv = cv2.dft(given_array.astype(np.float32), flags=cv2.DFT_COMPLEX_OUTPUT)"
   ]
  },
  {
   "cell_type": "code",
   "execution_count": 38,
   "metadata": {},
   "outputs": [
    {
     "data": {
      "text/plain": [
       "array([[[ 6.        ,  0.        ]],\n",
       "\n",
       "       [[-0.70710677, -1.7071068 ]],\n",
       "\n",
       "       [[ 1.        , -1.        ]],\n",
       "\n",
       "       [[ 0.70710677,  0.29289323]],\n",
       "\n",
       "       [[ 0.        ,  0.        ]],\n",
       "\n",
       "       [[ 0.70710677, -0.29289323]],\n",
       "\n",
       "       [[ 1.        ,  1.        ]],\n",
       "\n",
       "       [[-0.70710677,  1.7071068 ]]], dtype=float32)"
      ]
     },
     "execution_count": 38,
     "metadata": {},
     "output_type": "execute_result"
    }
   ],
   "source": [
    "dft_by_cv"
   ]
  },
  {
   "cell_type": "code",
   "execution_count": 39,
   "metadata": {},
   "outputs": [],
   "source": [
    "dft_results_by_cv2 = np.vectorize(complex)(dft_by_cv[:,:,0],dft_by_cv[:,:,1])"
   ]
  },
  {
   "cell_type": "code",
   "execution_count": 40,
   "metadata": {},
   "outputs": [
    {
     "data": {
      "text/plain": [
       "array([[ 6.000+0.000j],\n",
       "       [-0.707-1.707j],\n",
       "       [ 1.000-1.000j],\n",
       "       [ 0.707+0.293j],\n",
       "       [ 0.000+0.000j],\n",
       "       [ 0.707-0.293j],\n",
       "       [ 1.000+1.000j],\n",
       "       [-0.707+1.707j]])"
      ]
     },
     "execution_count": 40,
     "metadata": {},
     "output_type": "execute_result"
    }
   ],
   "source": [
    "dft_results_by_cv2"
   ]
  },
  {
   "cell_type": "code",
   "execution_count": 42,
   "metadata": {},
   "outputs": [
    {
     "name": "stdout",
     "output_type": "stream",
     "text": [
      " index is i=0 F0 is (6+0j)\n",
      " index is i=1 F1 is (-0.707-1.707j)\n",
      " index is i=2 F2 is (1-1j)\n",
      " index is i=3 F3 is (0.707+0.293j)\n",
      " index is i=4 F4 is -0j\n",
      " index is i=5 F5 is (0.707-0.293j)\n",
      " index is i=6 F6 is (1+1j)\n",
      " index is i=7 F7 is (-0.707+1.707j)\n"
     ]
    }
   ],
   "source": [
    "N=8\n",
    "for k in range(8):\n",
    "    exp = np.array([np.exp((-2*np.pi*(1j)/N)*k*x) for x in np.arange(N)])\n",
    "    F_print = np.dot(exp, given_array)\n",
    "    F_print = np.around(F_print, 3)\n",
    "    print(f' index is i={k} F{k} is {F_print}')"
   ]
  },
  {
   "cell_type": "code",
   "execution_count": null,
   "metadata": {},
   "outputs": [],
   "source": []
  }
 ],
 "metadata": {
  "kernelspec": {
   "display_name": "Python 3",
   "language": "python",
   "name": "python3"
  },
  "language_info": {
   "codemirror_mode": {
    "name": "ipython",
    "version": 3
   },
   "file_extension": ".py",
   "mimetype": "text/x-python",
   "name": "python",
   "nbconvert_exporter": "python",
   "pygments_lexer": "ipython3",
   "version": "3.8.5"
  }
 },
 "nbformat": 4,
 "nbformat_minor": 4
}
